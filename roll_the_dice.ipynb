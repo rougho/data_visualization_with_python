{
 "cells": [
  {
   "cell_type": "code",
   "execution_count": 1,
   "metadata": {},
   "outputs": [],
   "source": [
    "from random import randint\n",
    "import plotly.express as px"
   ]
  },
  {
   "cell_type": "code",
   "execution_count": 2,
   "metadata": {},
   "outputs": [],
   "source": [
    "\n",
    "'''Class'''\n",
    "class Die:\n",
    "    def __init__(self, sides = 6):\n",
    "        self.sides = sides\n",
    "    \n",
    "    def roll(self):\n",
    "        return randint(1, self.sides)"
   ]
  },
  {
   "cell_type": "code",
   "execution_count": 5,
   "metadata": {},
   "outputs": [
    {
     "name": "stdout",
     "output_type": "stream",
     "text": [
      "[25, 42, 98, 113, 134, 163, 143, 113, 87, 59, 23]\n"
     ]
    }
   ],
   "source": [
    "'''Main'''\n",
    "#instance of the dice\n",
    "dice_1 = Die()\n",
    "dice_2 = Die()\n",
    "\n",
    "#roll the dice\n",
    "result = []\n",
    "for roll in range(1000):\n",
    "    sum = dice_1.roll() + dice_2.roll()\n",
    "    result.append(sum)\n",
    "\n",
    "#frequency\n",
    "frequencies = []\n",
    "max_result = dice_1.sides + dice_2.sides\n",
    "poss_results = range(2, max_result+1)\n",
    "for value in poss_results:\n",
    "    frequency = result.count(value)\n",
    "    frequencies.append(frequency)\n",
    "\n",
    "#histogram\n",
    "print(frequencies)\n",
    "title = \"Reuslts of rolling one D6, 1000 times\"\n",
    "labels= {'x' : 'Results', 'y' : 'Frequency of result'}\n",
    "fig = px.bar(x=poss_results, y=frequencies, title=title, labels=labels)\n",
    "fig.update_layout(xaxis_dtick = 1)\n",
    "fig.write_html(\"d6_dice.html\")"
   ]
  },
  {
   "cell_type": "code",
   "execution_count": null,
   "metadata": {},
   "outputs": [],
   "source": []
  }
 ],
 "metadata": {
  "kernelspec": {
   "display_name": "Python 3",
   "language": "python",
   "name": "python3"
  },
  "language_info": {
   "codemirror_mode": {
    "name": "ipython",
    "version": 3
   },
   "file_extension": ".py",
   "mimetype": "text/x-python",
   "name": "python",
   "nbconvert_exporter": "python",
   "pygments_lexer": "ipython3",
   "version": "3.11.5"
  },
  "orig_nbformat": 4
 },
 "nbformat": 4,
 "nbformat_minor": 2
}
